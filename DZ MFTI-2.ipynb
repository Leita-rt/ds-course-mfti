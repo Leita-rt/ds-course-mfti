{
 "cells": [
  {
   "cell_type": "markdown",
   "id": "569b80cd",
   "metadata": {},
   "source": [
    "## Задача 1. Минимизация гладкой функции\n",
    "\n",
    "Рассматриваем функцию f(x) = sin(x / 5) * exp(x / 10) + 5 * exp(-x / 2) на промежутке [1, 30]\n",
    "\n",
    "Ищем минимум этой функции на заданном промежутке с помощью scipy.optimize.\n",
    "\n",
    "Указываем в scipy.optimize.minimize в качестве метода BFGS (один из самых точных в большинстве случаев градиентных методов оптимизации), запускаем из начального приближения x=2. Градиент функции при этом не указываем – он будет оценен численно. \n",
    "\n",
    "Затем изменяем начальное приближение на x=30.\n",
    "\n",
    "Записываем полученные значения функции в точках минимума в файл.\n",
    "\n",
    "На графике функции видно, что при приближении х=2 мы попадаем в локальный минимум, а при приближении х=30 в глобальный минимум."
   ]
  },
  {
   "cell_type": "code",
   "execution_count": 145,
   "id": "2a2df7be",
   "metadata": {},
   "outputs": [],
   "source": [
    "import scipy\n",
    "from scipy.optimize import minimize, differential_evolution\n",
    "import matplotlib.pylab as plt\n",
    "import numpy as np"
   ]
  },
  {
   "cell_type": "code",
   "execution_count": 99,
   "id": "0f6f4110",
   "metadata": {},
   "outputs": [],
   "source": [
    "fun = lambda x: (np.sin(x / 5.0) * np.exp(x / 10.0) + 5 * np.exp(-x / 2.))"
   ]
  },
  {
   "cell_type": "code",
   "execution_count": 146,
   "id": "081190ad",
   "metadata": {},
   "outputs": [
    {
     "data": {
      "image/png": "[encoded data removed]",
      "text/plain": [
       "<Figure size 432x288 with 1 Axes>"
      ]
     },
     "metadata": {
      "needs_background": "light"
     },
     "output_type": "display_data"
    }
   ],
   "source": [
    "x = np.arange(1, 30, 0.1)\n",
    "y = fun(x)\n",
    "plt.plot(x, y)\n",
    "plt.show()"
   ]
  },
  {
   "cell_type": "code",
   "execution_count": 90,
   "id": "49224727",
   "metadata": {
    "scrolled": true
   },
   "outputs": [
    {
     "name": "stdout",
     "output_type": "stream",
     "text": [
      "      fun: 1.7452682903447336\n",
      " hess_inv: array([[5.98752645]])\n",
      "      jac: array([-2.04145908e-06])\n",
      "  message: 'Optimization terminated successfully.'\n",
      "     nfev: 14\n",
      "      nit: 6\n",
      "     njev: 7\n",
      "   status: 0\n",
      "  success: True\n",
      "        x: array([4.13627628])\n"
     ]
    }
   ],
   "source": [
    "res = minimize (fun, 2, method='BFGS')\n",
    "print(res)"
   ]
  },
  {
   "cell_type": "code",
   "execution_count": 55,
   "id": "aab8b0c1",
   "metadata": {},
   "outputs": [
    {
     "name": "stdout",
     "output_type": "stream",
     "text": [
      "      fun: -11.898894665981313\n",
      " hess_inv: array([[1.67936744]])\n",
      "      jac: array([0.])\n",
      "  message: 'Optimization terminated successfully.'\n",
      "     nfev: 14\n",
      "      nit: 6\n",
      "     njev: 7\n",
      "   status: 0\n",
      "  success: True\n",
      "        x: array([25.88019321])\n"
     ]
    }
   ],
   "source": [
    "res = minimize (fun, 30, method='BFGS')\n",
    "print(res)"
   ]
  },
  {
   "cell_type": "code",
   "execution_count": 30,
   "id": "ec1b2ce5",
   "metadata": {},
   "outputs": [],
   "source": [
    "with open('result2.txt', 'w') as fd:\n",
    "    fd.write('1.75 -11.9')"
   ]
  },
  {
   "cell_type": "code",
   "execution_count": 31,
   "id": "b64ca68c",
   "metadata": {},
   "outputs": [
    {
     "name": "stdout",
     "output_type": "stream",
     "text": [
      "1.75 -11.9\n"
     ]
    }
   ],
   "source": [
    "!more result2.txt"
   ]
  },
  {
   "cell_type": "markdown",
   "id": "c70a6df7",
   "metadata": {},
   "source": [
    "## Задача 2. Глобальная оптимизация\n",
    "\n",
    "Применяем к этой же функции f(x) метод глобальной оптимизации — дифференциальную эволюцию."
   ]
  },
  {
   "cell_type": "code",
   "execution_count": 35,
   "id": "24c92fd3",
   "metadata": {},
   "outputs": [],
   "source": [
    "res1 = differential_evolution (fun, [[1,30]])"
   ]
  },
  {
   "cell_type": "code",
   "execution_count": 37,
   "id": "9a827872",
   "metadata": {},
   "outputs": [
    {
     "data": {
      "text/plain": [
       "(array([25.88019868]), -11.898894665971818)"
      ]
     },
     "execution_count": 37,
     "metadata": {},
     "output_type": "execute_result"
    }
   ],
   "source": [
    "res1.x, res1.fun"
   ]
  },
  {
   "cell_type": "code",
   "execution_count": 40,
   "id": "c04a8d89",
   "metadata": {},
   "outputs": [],
   "source": [
    "with open('result3.txt', 'w') as fd:\n",
    "    fd.write('-11.9')"
   ]
  },
  {
   "cell_type": "code",
   "execution_count": 41,
   "id": "e119f390",
   "metadata": {},
   "outputs": [
    {
     "name": "stdout",
     "output_type": "stream",
     "text": [
      "-11.9\n"
     ]
    }
   ],
   "source": [
    "!more result3.txt"
   ]
  },
  {
   "cell_type": "markdown",
   "id": "e15c1a08",
   "metadata": {},
   "source": [
    "## Задача 3. Минимизация негладкой функции\n",
    "\n",
    "Рассматриваем функцию h(x) = int(f(x)) на том же отрезке [1, 30], т.е. теперь каждое значение f(x) приводится к типу int и функция принимает только целые значения.\n",
    "\n",
    "Находим минимум функции h(x) с помощью BFGS, взяв в качестве начального приближения x=30.\n",
    "\n",
    "Находим минимум h(x) на отрезке [1, 30] с помощью дифференциальной эволюции.\n",
    "\n",
    "Видно, что полученные ответы различаются. Это ожидаемый результат, ведь BFGS использует градиент (в одномерном случае – производную) и явно не пригоден для минимизации рассмотренной нами разрывной функции."
   ]
  },
  {
   "cell_type": "code",
   "execution_count": 126,
   "id": "fdb2f900",
   "metadata": {},
   "outputs": [],
   "source": [
    "fun2 = lambda x: np.array([int(i) for i in fun(x)])"
   ]
  },
  {
   "cell_type": "code",
   "execution_count": 147,
   "id": "eaa58827",
   "metadata": {},
   "outputs": [
    {
     "data": {
      "image/png": "[encoded data removed]",
      "text/plain": [
       "<Figure size 432x288 with 1 Axes>"
      ]
     },
     "metadata": {
      "needs_background": "light"
     },
     "output_type": "display_data"
    }
   ],
   "source": [
    "x = np.arange(1, 30, 0.1)\n",
    "y = fun2(x)\n",
    "plt.plot(x, y)\n",
    "plt.show()"
   ]
  },
  {
   "cell_type": "code",
   "execution_count": 136,
   "id": "0b3780f3",
   "metadata": {},
   "outputs": [
    {
     "name": "stdout",
     "output_type": "stream",
     "text": [
      "      fun: -5\n",
      " hess_inv: array([[1]])\n",
      "      jac: array([0.])\n",
      "  message: 'Optimization terminated successfully.'\n",
      "     nfev: 2\n",
      "      nit: 0\n",
      "     njev: 1\n",
      "   status: 0\n",
      "  success: True\n",
      "        x: array([30.])\n"
     ]
    }
   ],
   "source": [
    "res = minimize (fun2, 30, method='BFGS')\n",
    "print(res)"
   ]
  },
  {
   "cell_type": "code",
   "execution_count": 129,
   "id": "bbb48bf2",
   "metadata": {},
   "outputs": [
    {
     "name": "stdout",
     "output_type": "stream",
     "text": [
      "     fun: -11.0\n",
      " message: 'Optimization terminated successfully.'\n",
      "    nfev: 62\n",
      "     nit: 3\n",
      " success: True\n",
      "       x: array([25.97315125])\n"
     ]
    }
   ],
   "source": [
    "res1 = differential_evolution (fun2, [[1,30]])\n",
    "print(res1)"
   ]
  },
  {
   "cell_type": "code",
   "execution_count": 72,
   "id": "974fe71f",
   "metadata": {},
   "outputs": [],
   "source": [
    "with open('result4.txt', 'w') as fd:\n",
    "    fd.write('-5 -11.0')"
   ]
  },
  {
   "cell_type": "code",
   "execution_count": 73,
   "id": "da28df3b",
   "metadata": {},
   "outputs": [
    {
     "name": "stdout",
     "output_type": "stream",
     "text": [
      "-5 -11.0\n"
     ]
    }
   ],
   "source": [
    "!more result4.txt"
   ]
  }
 ],
 "metadata": {
  "kernelspec": {
   "display_name": "Python 3",
   "language": "python",
   "name": "python3"
  },
  "language_info": {
   "codemirror_mode": {
    "name": "ipython",
    "version": 3
   },
   "file_extension": ".py",
   "mimetype": "text/x-python",
   "name": "python",
   "nbconvert_exporter": "python",
   "pygments_lexer": "ipython3",
   "version": "3.8.8"
  }
 },
 "nbformat": 4,
 "nbformat_minor": 5
}
