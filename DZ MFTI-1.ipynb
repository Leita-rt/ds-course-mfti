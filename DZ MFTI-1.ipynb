{
 "cells": [
  {
   "cell_type": "markdown",
   "id": "9338f458",
   "metadata": {},
   "source": [
    "## Задача 1: сравнение предложений\n",
    "\n",
    "Дан файл с предложениями (sentences.txt). Каждая строка в файле соответствует одному предложению. \n",
    "Проводим токенизацию, то есть разбиение текстов на слова. Для этого используем регулярное выражение, которое считает разделителем любой символ, не являющийся буквой: re.split('[^a-z]', t). А также удаляем пустые слова после разделения.\n",
    "\n",
    "Составляем список всех слов, встречающихся в предложениях. Каждому слову сопоставляем индекс от нуля до (d - 1), где d — число различных слов в предложениях.\n",
    "\n",
    "Создаем матрицу размера n * d, где n — число предложений. Заполняем ее: элемент с индексом (i, j) в этой матрице должен быть равен количеству вхождений j-го слова в i-е предложение. Получаем матрицу размера 22 * 254.\n",
    "\n",
    "Находим косинусное расстояние от предложения в самой первой строке (In comparison to dogs, cats have not undergone...) до всех остальных с помощью функции scipy.spatial.distance.cosine. Само предложение (In comparison to dogs, cats have not undergone... ) имеет индекс 0. Ответом на задание будут номера у двух предложений, ближайших к нему по этому расстоянию (строки нумеруются с нуля).\n",
    "Записываем полученные числа в файл, разделив пробелом."
   ]
  },
  {
   "cell_type": "code",
   "execution_count": 5,
   "id": "7ec4ceb0",
   "metadata": {},
   "outputs": [],
   "source": [
    "import re"
   ]
  },
  {
   "cell_type": "code",
   "execution_count": 24,
   "id": "02035d7a",
   "metadata": {},
   "outputs": [],
   "source": [
    "lines = []\n",
    "words = []"
   ]
  },
  {
   "cell_type": "code",
   "execution_count": 25,
   "id": "a462e6f6",
   "metadata": {},
   "outputs": [],
   "source": [
    "with open('sentences.txt', 'r') as file_obj:\n",
    "    for line in file_obj:\n",
    "        l1 = list(filter(lambda x: x != '', re.split('[^a-z]', line.lower())))\n",
    "        words.extend(l1)\n",
    "        lines.append(l1)"
   ]
  },
  {
   "cell_type": "code",
   "execution_count": 28,
   "id": "25c26868",
   "metadata": {},
   "outputs": [],
   "source": [
    "words_set = set(words)\n",
    "\n",
    "matrix = []\n",
    "i = 0\n",
    "for line in lines:\n",
    "    matrix.append([])\n",
    "    for word in words_set:\n",
    "        n = line.count(word)\n",
    "        matrix[i].append(n)\n",
    "    i += 1"
   ]
  },
  {
   "cell_type": "code",
   "execution_count": 27,
   "id": "78f898f9",
   "metadata": {},
   "outputs": [],
   "source": [
    "from scipy.spatial import distance"
   ]
  },
  {
   "cell_type": "code",
   "execution_count": 38,
   "id": "e3364692",
   "metadata": {},
   "outputs": [
    {
     "name": "stdout",
     "output_type": "stream",
     "text": [
      "[(6, 0.7327387580875756), (4, 0.7770887149698589), (21, 0.8250364469440588), (10, 0.8328165362273942), (12, 0.8396432548525454), (16, 0.8406361854220809), (20, 0.8427572744917122), (2, 0.8644738145642124), (13, 0.8703592552895671), (14, 0.8740118423302576), (11, 0.8804771390665607), (8, 0.8842724875284311), (19, 0.8885443574849294), (3, 0.8951715163278082), (9, 0.9055088817476932), (7, 0.9258750683338899), (5, 0.9402385695332803), (15, 0.9442721787424647), (18, 0.9442721787424647), (1, 0.9527544408738466), (17, 0.956644501523794)]\n"
     ]
    }
   ],
   "source": [
    "cos_dists = []\n",
    "for i in range(1, len(matrix)):\n",
    "    cos_dists.append((i, distance.cosine(matrix[0], matrix[i])))\n",
    "cos_dists.sort(key=lambda x: x[1])"
   ]
  },
  {
   "cell_type": "code",
   "execution_count": 42,
   "id": "b1999050",
   "metadata": {},
   "outputs": [],
   "source": [
    "with open('result.txt', 'w') as fd:\n",
    "    fd.write('{0} {1}'.format(cos_dists[0][0], cos_dists[1][0]))"
   ]
  },
  {
   "cell_type": "code",
   "execution_count": 44,
   "id": "1f810899",
   "metadata": {},
   "outputs": [
    {
     "name": "stdout",
     "output_type": "stream",
     "text": [
      "6 4\n"
     ]
    }
   ],
   "source": [
    "!more result.txt"
   ]
  },
  {
   "cell_type": "markdown",
   "id": "588b8650",
   "metadata": {},
   "source": [
    "## Задача 2: аппроксимация функции\n",
    "\n",
    "В данной задаче будем находить приближение функции многочленом, решая систему линейных уравнений.\n",
    "\n",
    "Формируем систему линейных уравнений для многочлена первой степени, который должен совпадать с функцией f в точках 1 и 15. Решаем данную систему с помощью функции scipy.linalg.solve.\n",
    "\n",
    "Повторяем те же шаги для многочлена второй степени, который совпадает с функцией f в точках 1, 8 и 15.\n",
    "\n",
    "Повторяем те же шаги для многочлена третьей степени, который совпадает с функцией f в точках 1, 4, 10 и 15.\n",
    "Ответом на задание являются коэффициенты данного многочлена (четыре числа в следующем порядке: w_0, w_1, w_2, w_3).\n",
    "Записываем полученные числа в файл, разделив пробелом."
   ]
  },
  {
   "cell_type": "code",
   "execution_count": 48,
   "id": "22b030cf",
   "metadata": {},
   "outputs": [],
   "source": [
    "from math import sin, exp"
   ]
  },
  {
   "cell_type": "code",
   "execution_count": 51,
   "id": "74b3c4a9",
   "metadata": {},
   "outputs": [],
   "source": [
    "y1 = sin(1.0 / 5.0) * exp(1 / 10.0) + 5 * exp(-1 / 2.)"
   ]
  },
  {
   "cell_type": "code",
   "execution_count": 52,
   "id": "7186bfc4",
   "metadata": {},
   "outputs": [
    {
     "name": "stdout",
     "output_type": "stream",
     "text": [
      "3.252216865271419\n"
     ]
    }
   ],
   "source": [
    "print(y1)"
   ]
  },
  {
   "cell_type": "code",
   "execution_count": 53,
   "id": "cbda1aba",
   "metadata": {},
   "outputs": [],
   "source": [
    "y2 = sin(15.0 / 5.0) * exp(15 / 10.0) + 5 * exp(-15 / 2.)"
   ]
  },
  {
   "cell_type": "code",
   "execution_count": 54,
   "id": "1aca9b7c",
   "metadata": {},
   "outputs": [
    {
     "name": "stdout",
     "output_type": "stream",
     "text": [
      "0.6352214195786656\n"
     ]
    }
   ],
   "source": [
    "print(y2)"
   ]
  },
  {
   "cell_type": "code",
   "execution_count": 55,
   "id": "0d80919b",
   "metadata": {},
   "outputs": [],
   "source": [
    "from scipy import linalg"
   ]
  },
  {
   "cell_type": "code",
   "execution_count": 57,
   "id": "b4362f6a",
   "metadata": {},
   "outputs": [],
   "source": [
    "res1 = linalg.solve([[1,1],[15,1]], [y1, y2])"
   ]
  },
  {
   "cell_type": "code",
   "execution_count": 58,
   "id": "8164afe6",
   "metadata": {},
   "outputs": [
    {
     "name": "stdout",
     "output_type": "stream",
     "text": [
      "[-0.18692825  3.43914511]\n"
     ]
    }
   ],
   "source": [
    "print(res1)"
   ]
  },
  {
   "cell_type": "code",
   "execution_count": 62,
   "id": "64c11778",
   "metadata": {},
   "outputs": [],
   "source": [
    "y3 = sin(8.0 / 5.0) * exp(8 / 10.0) + 5 * exp(-8 / 2.)"
   ]
  },
  {
   "cell_type": "code",
   "execution_count": 63,
   "id": "9826ba08",
   "metadata": {},
   "outputs": [
    {
     "name": "stdout",
     "output_type": "stream",
     "text": [
      "2.316170159053224\n"
     ]
    }
   ],
   "source": [
    "print(y3)"
   ]
  },
  {
   "cell_type": "code",
   "execution_count": 65,
   "id": "87b90f0f",
   "metadata": {},
   "outputs": [],
   "source": [
    "res2 = linalg.solve([[1,1,1],[64,8,1], [225,15,1]], [y1, y3, y2])"
   ]
  },
  {
   "cell_type": "code",
   "execution_count": 66,
   "id": "512efb34",
   "metadata": {},
   "outputs": [
    {
     "name": "stdout",
     "output_type": "stream",
     "text": [
      "[-0.00760104 -0.06531159  3.32512949]\n"
     ]
    }
   ],
   "source": [
    "print(res2)"
   ]
  },
  {
   "cell_type": "code",
   "execution_count": 67,
   "id": "8aaaaca0",
   "metadata": {},
   "outputs": [],
   "source": [
    "y4 = sin(4.0 / 5.0) * exp(4 / 10.0) + 5 * exp(-4 / 2.)"
   ]
  },
  {
   "cell_type": "code",
   "execution_count": 68,
   "id": "5e1fb08d",
   "metadata": {},
   "outputs": [],
   "source": [
    "y5 = sin(10.0 / 5.0) * exp(10 / 10.0) + 5 * exp(-10 / 2.)"
   ]
  },
  {
   "cell_type": "code",
   "execution_count": 83,
   "id": "848edb11",
   "metadata": {},
   "outputs": [],
   "source": [
    "def f(x):\n",
    "    return sin(x / 5.0) * exp(x / 10.0) + 5 * exp(-x / 2.0)"
   ]
  },
  {
   "cell_type": "code",
   "execution_count": 84,
   "id": "493bdb19",
   "metadata": {},
   "outputs": [],
   "source": [
    "res3 = linalg.solve([[1,1,1,1],[64,16,4,1],[1000,100,10,1],[3375,225,15,1]], [f(1), f(4), f(10), f(15)])"
   ]
  },
  {
   "cell_type": "code",
   "execution_count": 85,
   "id": "94f4c6a7",
   "metadata": {},
   "outputs": [
    {
     "name": "stdout",
     "output_type": "stream",
     "text": [
      "[-0.00823565  0.19333685 -1.29552587  4.36264154]\n"
     ]
    }
   ],
   "source": [
    "print(res3)"
   ]
  },
  {
   "cell_type": "code",
   "execution_count": 74,
   "id": "83237b53",
   "metadata": {},
   "outputs": [
    {
     "name": "stdout",
     "output_type": "stream",
     "text": [
      "[-0.00823565  0.19333685 -1.29552587  4.36264154]\n"
     ]
    }
   ],
   "source": [
    "print(res3)"
   ]
  },
  {
   "cell_type": "code",
   "execution_count": 86,
   "id": "49ba29e4",
   "metadata": {},
   "outputs": [],
   "source": [
    "res3r = res3.round(2)\n",
    "with open('result1.txt', 'w') as fd:\n",
    "    fd.write('{0} {1} {2} {3}'.format(res3r[3], res3r[2], res3r[1], res3r[0]))"
   ]
  },
  {
   "cell_type": "code",
   "execution_count": 87,
   "id": "13c63d09",
   "metadata": {},
   "outputs": [
    {
     "name": "stdout",
     "output_type": "stream",
     "text": [
      "4.36 -1.3 0.19 -0.01\n"
     ]
    }
   ],
   "source": [
    "!more result1.txt"
   ]
  }
 ],
 "metadata": {
  "kernelspec": {
   "display_name": "Python 3",
   "language": "python",
   "name": "python3"
  },
  "language_info": {
   "codemirror_mode": {
    "name": "ipython",
    "version": 3
   },
   "file_extension": ".py",
   "mimetype": "text/x-python",
   "name": "python",
   "nbconvert_exporter": "python",
   "pygments_lexer": "ipython3",
   "version": "3.8.8"
  }
 },
 "nbformat": 4,
 "nbformat_minor": 5
}
